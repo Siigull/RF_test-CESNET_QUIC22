{
 "cells": [
  {
   "cell_type": "code",
   "execution_count": 1,
   "metadata": {},
   "outputs": [
    {
     "name": "stderr",
     "output_type": "stream",
     "text": [
      "/Library/Frameworks/Python.framework/Versions/3.11/lib/python3.11/site-packages/cesnet_datazoo/config.py:341: UserWarning: Some test dates (20221031) are before or equal to the last train date (20221106). This might lead to improper evaluation and should be avoided.\n",
      "  warnings.warn(f\"Some test dates ({min(test_dates).strftime('%Y%m%d')}) are before or equal to the last train date ({max(train_dates).strftime('%Y%m%d')}). This might lead to improper evaluation and should be avoided.\")\n"
     ]
    },
    {
     "name": "stdout",
     "output_type": "stream",
     "text": [
      "Loading data from dataloader\n"
     ]
    },
    {
     "name": "stderr",
     "output_type": "stream",
     "text": [
      "100%|██████████| 8162/8162 [00:12<00:00, 668.50it/s] \n"
     ]
    },
    {
     "name": "stdout",
     "output_type": "stream",
     "text": [
      "Loading data from dataloader\n"
     ]
    },
    {
     "name": "stderr",
     "output_type": "stream",
     "text": [
      "100%|██████████| 192/192 [00:06<00:00, 31.67it/s]\n"
     ]
    },
    {
     "name": "stdout",
     "output_type": "stream",
     "text": [
      "Loading data from dataloader\n"
     ]
    },
    {
     "name": "stderr",
     "output_type": "stream",
     "text": [
      "100%|██████████| 957/957 [00:10<00:00, 93.41it/s] \n"
     ]
    }
   ],
   "source": [
    "def topx_indexes(dataframe, nclasses):\n",
    "    grouped_counts = dataframe.groupby(\"APP\").size()\n",
    "    grouped_counts = grouped_counts.sort_values(ascending=False)\n",
    "\n",
    "    topx_groups = grouped_counts.head(nclasses).index\n",
    "\n",
    "    return topx_groups\n",
    "\n",
    "def QUIC_dataset(nclasses = 0):\n",
    "    from cesnet_datazoo.datasets import CESNET_QUIC22\n",
    "    from cesnet_datazoo.config import DatasetConfig, AppSelection, ValidationApproach\n",
    "\n",
    "    dataset = CESNET_QUIC22(\"~/datasets/CESNET-QUIC22/\", size=\"XS\")\n",
    "\n",
    "    common_params = {\n",
    "        \"dataset\" : dataset,\n",
    "        \"apps_selection\" : AppSelection.ALL_KNOWN,\n",
    "        \"test_period_name\" : \"W-2022-44\",\n",
    "        \"val_approach\": ValidationApproach.SPLIT_FROM_TRAIN,\n",
    "        \"train_val_split_fraction\": 0.2\n",
    "    }\n",
    "\n",
    "    dataset_config = DatasetConfig(**common_params)\n",
    "    dataset.set_dataset_config_and_initialize(dataset_config)\n",
    "    train_dataframe = dataset.get_train_df(flatten_ppi=True)\n",
    "    val_dataframe = dataset.get_val_df(flatten_ppi=True)\n",
    "    test_dataframe = dataset.get_test_df(flatten_ppi=True)\n",
    "\n",
    "    if nclasses != 0:\n",
    "        topx_groups = topx_indexes(train_dataframe, nclasses)\n",
    "\n",
    "        train_dataframe = train_dataframe[train_dataframe[\"APP\"].isin(topx_groups)]\n",
    "        test_dataframe  = test_dataframe[test_dataframe[\"APP\"].isin(topx_groups)]\n",
    "        val_dataframe   = val_dataframe[val_dataframe[\"APP\"].isin(topx_groups)]\n",
    "\n",
    "    return (train_dataframe, val_dataframe, test_dataframe)\n",
    "\n",
    "(train_dataframe, val_dataframe, test_dataframe) = QUIC_dataset()"
   ]
  },
  {
   "cell_type": "code",
   "execution_count": 6,
   "metadata": {},
   "outputs": [
    {
     "name": "stdout",
     "output_type": "stream",
     "text": [
      "[0.515      0.07266667]\n"
     ]
    },
    {
     "ename": "ValueError",
     "evalue": "The truth value of an array with more than one element is ambiguous. Use a.any() or a.all()",
     "output_type": "error",
     "traceback": [
      "\u001b[0;31m---------------------------------------------------------------------------\u001b[0m",
      "\u001b[0;31mValueError\u001b[0m                                Traceback (most recent call last)",
      "Cell \u001b[0;32mIn[6], line 34\u001b[0m\n\u001b[1;32m     32\u001b[0m top2 \u001b[38;5;241m=\u001b[39m np\u001b[38;5;241m.\u001b[39msort(proba)[\u001b[38;5;241m-\u001b[39m\u001b[38;5;241m2\u001b[39m:][::\u001b[38;5;241m-\u001b[39m\u001b[38;5;241m1\u001b[39m]\n\u001b[1;32m     33\u001b[0m \u001b[38;5;28mprint\u001b[39m(top2)\n\u001b[0;32m---> 34\u001b[0m \u001b[38;5;28;01mif\u001b[39;00m proba \u001b[38;5;241m<\u001b[39m th:\n\u001b[1;32m     35\u001b[0m     X_chosen[ch_i] \u001b[38;5;241m=\u001b[39m X[i \u001b[38;5;241m+\u001b[39m index]\n\u001b[1;32m     36\u001b[0m     y_chosen[ch_i] \u001b[38;5;241m=\u001b[39m y[i \u001b[38;5;241m+\u001b[39m index]\n",
      "\u001b[0;31mValueError\u001b[0m: The truth value of an array with more than one element is ambiguous. Use a.any() or a.all()"
     ]
    }
   ],
   "source": [
    "from sklearn.ensemble import RandomForestClassifier\n",
    "from sklearn.metrics import accuracy_score\n",
    "import numpy as np\n",
    "\n",
    "clf = RandomForestClassifier(max_depth=15, n_jobs=-1)\n",
    "\n",
    "iters = 100_000\n",
    "\n",
    "X = train_dataframe.drop(columns=\"APP\").to_numpy()\n",
    "y = train_dataframe[\"APP\"].to_numpy()\n",
    "\n",
    "X_test = test_dataframe.drop(columns=\"APP\").to_numpy()[:200_000]\n",
    "y_test = test_dataframe[\"APP\"].to_numpy()[:200_000]\n",
    "\n",
    "X_chosen = np.ndarray(shape=(iters, X.shape[1]))\n",
    "y_chosen = np.ndarray(shape=(iters,))\n",
    "\n",
    "ch_i = 400\n",
    "\n",
    "X_chosen[:ch_i] = X[:ch_i]\n",
    "y_chosen[:ch_i] = y[:ch_i]\n",
    "\n",
    "arr = [0.1, 0.2, 0.4, 0.6]\n",
    "\n",
    "for th in arr:\n",
    "    ch_i = 400\n",
    "    clf.fit(X_chosen[:ch_i], y_chosen[:ch_i])\n",
    "\n",
    "    for i in range(400, iters, 400):\n",
    "        probas = clf.predict_proba(X[i:i+400])\n",
    "        for index, proba in enumerate(probas):\n",
    "            top2 = np.sort(proba)[-2:][::-1]\n",
    "            if (top2[0] - top2[1]) < th:\n",
    "                X_chosen[ch_i] = X[i + index]\n",
    "                y_chosen[ch_i] = y[i + index]\n",
    "                ch_i += 1\n",
    "\n",
    "        clf = RandomForestClassifier(max_depth=15, n_jobs=-1)\n",
    "        clf.fit(X_chosen[:ch_i], y_chosen[:ch_i])\n",
    "\n",
    "    predict_arr = clf.predict(X_test)\n",
    "    print(ch_i)\n",
    "    print(accuracy_score(y_test, predict_arr))"
   ]
  }
 ],
 "metadata": {
  "kernelspec": {
   "display_name": "Python 3",
   "language": "python",
   "name": "python3"
  },
  "language_info": {
   "codemirror_mode": {
    "name": "ipython",
    "version": 3
   },
   "file_extension": ".py",
   "mimetype": "text/x-python",
   "name": "python",
   "nbconvert_exporter": "python",
   "pygments_lexer": "ipython3",
   "version": "3.11.1"
  }
 },
 "nbformat": 4,
 "nbformat_minor": 2
}
