{
 "cells": [
  {
   "cell_type": "code",
   "execution_count": 1,
   "metadata": {},
   "outputs": [
    {
     "name": "stdout",
     "output_type": "stream",
     "text": [
      "Loading data from dataloader\n"
     ]
    },
    {
     "name": "stderr",
     "output_type": "stream",
     "text": [
      "100%|██████████| 8162/8162 [00:08<00:00, 1014.72it/s]\n"
     ]
    },
    {
     "name": "stdout",
     "output_type": "stream",
     "text": [
      "Loading data from dataloader\n"
     ]
    },
    {
     "name": "stderr",
     "output_type": "stream",
     "text": [
      "100%|██████████| 192/192 [00:03<00:00, 48.22it/s]\n"
     ]
    },
    {
     "name": "stdout",
     "output_type": "stream",
     "text": [
      "Loading data from dataloader\n"
     ]
    },
    {
     "name": "stderr",
     "output_type": "stream",
     "text": [
      "100%|██████████| 1247/1247 [00:08<00:00, 140.70it/s]\n"
     ]
    }
   ],
   "source": [
    "from cesnet_datazoo.datasets import CESNET_QUIC22\n",
    "from cesnet_datazoo.config import DatasetConfig, AppSelection, ValidationApproach\n",
    "\n",
    "dataset = CESNET_QUIC22(\"~/datasets/CESNET-QUIC22/\", size=\"XS\")\n",
    "\n",
    "common_params = {\n",
    "    \"dataset\": dataset,\n",
    "    \"apps_selection\": AppSelection.ALL_KNOWN,\n",
    "    \"train_period_name\": \"W-2022-44\",\n",
    "    \"val_approach\": ValidationApproach.SPLIT_FROM_TRAIN,\n",
    "    \"train_val_split_fraction\": 0.2,\n",
    "    \"use_packet_histograms\": True,\n",
    "}\n",
    "dataset_config = DatasetConfig(**common_params)\n",
    "dataset.set_dataset_config_and_initialize(dataset_config)\n",
    "train_dataframe = dataset.get_train_df(flatten_ppi=True)\n",
    "val_dataframe = dataset.get_val_df(flatten_ppi=True)\n",
    "test_dataframe = dataset.get_test_df(flatten_ppi=True)"
   ]
  },
  {
   "cell_type": "code",
   "execution_count": 2,
   "metadata": {},
   "outputs": [
    {
     "data": {
      "text/html": [
       "<style>#sk-container-id-1 {color: black;background-color: white;}#sk-container-id-1 pre{padding: 0;}#sk-container-id-1 div.sk-toggleable {background-color: white;}#sk-container-id-1 label.sk-toggleable__label {cursor: pointer;display: block;width: 100%;margin-bottom: 0;padding: 0.3em;box-sizing: border-box;text-align: center;}#sk-container-id-1 label.sk-toggleable__label-arrow:before {content: \"▸\";float: left;margin-right: 0.25em;color: #696969;}#sk-container-id-1 label.sk-toggleable__label-arrow:hover:before {color: black;}#sk-container-id-1 div.sk-estimator:hover label.sk-toggleable__label-arrow:before {color: black;}#sk-container-id-1 div.sk-toggleable__content {max-height: 0;max-width: 0;overflow: hidden;text-align: left;background-color: #f0f8ff;}#sk-container-id-1 div.sk-toggleable__content pre {margin: 0.2em;color: black;border-radius: 0.25em;background-color: #f0f8ff;}#sk-container-id-1 input.sk-toggleable__control:checked~div.sk-toggleable__content {max-height: 200px;max-width: 100%;overflow: auto;}#sk-container-id-1 input.sk-toggleable__control:checked~label.sk-toggleable__label-arrow:before {content: \"▾\";}#sk-container-id-1 div.sk-estimator input.sk-toggleable__control:checked~label.sk-toggleable__label {background-color: #d4ebff;}#sk-container-id-1 div.sk-label input.sk-toggleable__control:checked~label.sk-toggleable__label {background-color: #d4ebff;}#sk-container-id-1 input.sk-hidden--visually {border: 0;clip: rect(1px 1px 1px 1px);clip: rect(1px, 1px, 1px, 1px);height: 1px;margin: -1px;overflow: hidden;padding: 0;position: absolute;width: 1px;}#sk-container-id-1 div.sk-estimator {font-family: monospace;background-color: #f0f8ff;border: 1px dotted black;border-radius: 0.25em;box-sizing: border-box;margin-bottom: 0.5em;}#sk-container-id-1 div.sk-estimator:hover {background-color: #d4ebff;}#sk-container-id-1 div.sk-parallel-item::after {content: \"\";width: 100%;border-bottom: 1px solid gray;flex-grow: 1;}#sk-container-id-1 div.sk-label:hover label.sk-toggleable__label {background-color: #d4ebff;}#sk-container-id-1 div.sk-serial::before {content: \"\";position: absolute;border-left: 1px solid gray;box-sizing: border-box;top: 0;bottom: 0;left: 50%;z-index: 0;}#sk-container-id-1 div.sk-serial {display: flex;flex-direction: column;align-items: center;background-color: white;padding-right: 0.2em;padding-left: 0.2em;position: relative;}#sk-container-id-1 div.sk-item {position: relative;z-index: 1;}#sk-container-id-1 div.sk-parallel {display: flex;align-items: stretch;justify-content: center;background-color: white;position: relative;}#sk-container-id-1 div.sk-item::before, #sk-container-id-1 div.sk-parallel-item::before {content: \"\";position: absolute;border-left: 1px solid gray;box-sizing: border-box;top: 0;bottom: 0;left: 50%;z-index: -1;}#sk-container-id-1 div.sk-parallel-item {display: flex;flex-direction: column;z-index: 1;position: relative;background-color: white;}#sk-container-id-1 div.sk-parallel-item:first-child::after {align-self: flex-end;width: 50%;}#sk-container-id-1 div.sk-parallel-item:last-child::after {align-self: flex-start;width: 50%;}#sk-container-id-1 div.sk-parallel-item:only-child::after {width: 0;}#sk-container-id-1 div.sk-dashed-wrapped {border: 1px dashed gray;margin: 0 0.4em 0.5em 0.4em;box-sizing: border-box;padding-bottom: 0.4em;background-color: white;}#sk-container-id-1 div.sk-label label {font-family: monospace;font-weight: bold;display: inline-block;line-height: 1.2em;}#sk-container-id-1 div.sk-label-container {text-align: center;}#sk-container-id-1 div.sk-container {/* jupyter's `normalize.less` sets `[hidden] { display: none; }` but bootstrap.min.css set `[hidden] { display: none !important; }` so we also need the `!important` here to be able to override the default hidden behavior on the sphinx rendered scikit-learn.org. See: https://github.com/scikit-learn/scikit-learn/issues/21755 */display: inline-block !important;position: relative;}#sk-container-id-1 div.sk-text-repr-fallback {display: none;}</style><div id=\"sk-container-id-1\" class=\"sk-top-container\"><div class=\"sk-text-repr-fallback\"><pre>RandomForestClassifier(n_jobs=-1)</pre><b>In a Jupyter environment, please rerun this cell to show the HTML representation or trust the notebook. <br />On GitHub, the HTML representation is unable to render, please try loading this page with nbviewer.org.</b></div><div class=\"sk-container\" hidden><div class=\"sk-item\"><div class=\"sk-estimator sk-toggleable\"><input class=\"sk-toggleable__control sk-hidden--visually\" id=\"sk-estimator-id-1\" type=\"checkbox\" checked><label for=\"sk-estimator-id-1\" class=\"sk-toggleable__label sk-toggleable__label-arrow\">RandomForestClassifier</label><div class=\"sk-toggleable__content\"><pre>RandomForestClassifier(n_jobs=-1)</pre></div></div></div></div></div>"
      ],
      "text/plain": [
       "RandomForestClassifier(n_jobs=-1)"
      ]
     },
     "execution_count": 2,
     "metadata": {},
     "output_type": "execute_result"
    }
   ],
   "source": [
    "import numpy as np\n",
    "\n",
    "X = train_dataframe.drop(columns=\"APP\").to_numpy()\n",
    "y = train_dataframe[\"APP\"].to_numpy()\n",
    "\n",
    "np.append(X, test_dataframe.drop(columns=\"APP\").to_numpy())\n",
    "np.append(y, test_dataframe[\"APP\"].to_numpy())\n",
    "\n",
    "from sklearn.ensemble import RandomForestClassifier\n",
    "\n",
    "clf = RandomForestClassifier(n_jobs = -1)\n",
    "clf.fit(X, y)"
   ]
  },
  {
   "cell_type": "code",
   "execution_count": 3,
   "metadata": {},
   "outputs": [
    {
     "name": "stdout",
     "output_type": "stream",
     "text": [
      "[91, 0.048680311651379975, 'BYTES_REV']\n",
      "[62, 0.040240975542697066, 'SIZE_3']\n",
      "[63, 0.03682680189769522, 'SIZE_4']\n",
      "[64, 0.03145573727806306, 'SIZE_5']\n",
      "[65, 0.026075688948460383, 'SIZE_6']\n",
      "[66, 0.025710519692394188, 'SIZE_7']\n",
      "[90, 0.024668604928974432, 'BYTES']\n",
      "[110, 0.023855700160776365, 'PSIZE_BIN2_REV']\n",
      "[116, 0.02260855303785817, 'PSIZE_BIN8_REV']\n",
      "[94, 0.021261318924297407, 'DURATION']\n",
      "[60, 0.02109517076443409, 'SIZE_1']\n",
      "[115, 0.02091702737798418, 'PSIZE_BIN7_REV']\n",
      "[67, 0.01842431208767368, 'SIZE_8']\n",
      "[61, 0.018315725830615012, 'SIZE_2']\n",
      "[97, 0.018054038132329243, 'PPI_DURATION']\n",
      "[108, 0.015611228385875007, 'PSIZE_BIN8']\n",
      "[1, 0.01542216205792516, 'IPT_2']\n",
      "[125, 0.015366698436384217, 'IPT_BIN1_REV']\n",
      "[2, 0.015220001785974402, 'IPT_3']\n",
      "[68, 0.014953751945427257, 'SIZE_9']\n",
      "[111, 0.01461746031710402, 'PSIZE_BIN3_REV']\n",
      "[114, 0.013980702007391986, 'PSIZE_BIN6_REV']\n",
      "[72, 0.013627020603255323, 'SIZE_13']\n",
      "[93, 0.013285488187958232, 'PACKETS_REV']\n",
      "[70, 0.013240183141148366, 'SIZE_11']\n",
      "[73, 0.012830540111896261, 'SIZE_14']\n",
      "[112, 0.012277271360036398, 'PSIZE_BIN4_REV']\n",
      "[69, 0.012249986475098434, 'SIZE_10']\n",
      "[4, 0.01160742439511883, 'IPT_5']\n",
      "[107, 0.010682071760270884, 'PSIZE_BIN7']\n",
      "[71, 0.010622841483756735, 'SIZE_12']\n",
      "[105, 0.01043719511026698, 'PSIZE_BIN5']\n",
      "[13, 0.009973049667505092, 'IPT_14']\n",
      "[74, 0.009918753038323104, 'SIZE_15']\n",
      "[113, 0.00980787966379889, 'PSIZE_BIN5_REV']\n",
      "[3, 0.009732509230415994, 'IPT_4']\n",
      "[117, 0.009364962234789265, 'IPT_BIN1']\n",
      "[103, 0.009331017681487174, 'PSIZE_BIN3']\n",
      "[12, 0.00929628026633688, 'IPT_13']\n",
      "[106, 0.009013137934884572, 'PSIZE_BIN6']\n",
      "[92, 0.008938797699505457, 'PACKETS']\n",
      "[104, 0.008878188791243859, 'PSIZE_BIN4']\n",
      "[75, 0.007985839758255639, 'SIZE_16']\n",
      "[5, 0.007823069719221571, 'IPT_6']\n",
      "[95, 0.007762740893177291, 'PPI_LEN']\n",
      "[7, 0.007741061849671573, 'IPT_8']\n",
      "[31, 0.0075863001442460845, 'DIR_2']\n",
      "[6, 0.007231170683198955, 'IPT_7']\n",
      "[9, 0.006962862149145059, 'IPT_10']\n",
      "[76, 0.006863895208005803, 'SIZE_17']\n",
      "[8, 0.006846662531568024, 'IPT_9']\n",
      "[32, 0.006698300239041277, 'DIR_3']\n",
      "[33, 0.006319040873481043, 'DIR_4']\n",
      "[77, 0.006142684100710977, 'SIZE_18']\n",
      "[96, 0.005864459486648659, 'PPI_ROUNDTRIPS']\n",
      "[14, 0.005764545201317677, 'IPT_15']\n",
      "[11, 0.005731175787411887, 'IPT_12']\n",
      "[10, 0.005430296298567706, 'IPT_11']\n",
      "[78, 0.005373637559952801, 'SIZE_19']\n",
      "[79, 0.005248910233820948, 'SIZE_20']\n",
      "[37, 0.005225782318243635, 'DIR_8']\n",
      "[15, 0.005035845995645926, 'IPT_16']\n",
      "[126, 0.004740476743859833, 'IPT_BIN2_REV']\n",
      "[128, 0.004723758768154908, 'IPT_BIN4_REV']\n",
      "[127, 0.004715483825695355, 'IPT_BIN3_REV']\n",
      "[16, 0.004672694660882886, 'IPT_17']\n",
      "[80, 0.004659666855267293, 'SIZE_21']\n",
      "[36, 0.004384439297436576, 'DIR_7']\n",
      "[81, 0.004258906719699804, 'SIZE_22']\n",
      "[118, 0.004153314592679582, 'IPT_BIN2']\n",
      "[17, 0.004066656665186956, 'IPT_18']\n",
      "[34, 0.004026002392055619, 'DIR_5']\n",
      "[82, 0.0037153394011266894, 'SIZE_23']\n",
      "[83, 0.003590772244021323, 'SIZE_24']\n",
      "[119, 0.003444937269220373, 'IPT_BIN3']\n",
      "[121, 0.0034244802629853867, 'IPT_BIN5']\n",
      "[84, 0.003348479178586391, 'SIZE_25']\n",
      "[35, 0.0033211522286318764, 'DIR_6']\n",
      "[129, 0.0032643628074723653, 'IPT_BIN5_REV']\n",
      "[18, 0.0031525684175138396, 'IPT_19']\n",
      "[19, 0.003108286774414088, 'IPT_20']\n",
      "[40, 0.0030535960424354254, 'DIR_11']\n",
      "[102, 0.0030499612496806437, 'PSIZE_BIN2']\n",
      "[85, 0.002899744539444504, 'SIZE_26']\n",
      "[86, 0.0027473883640546435, 'SIZE_27']\n",
      "[42, 0.0026836012221233742, 'DIR_13']\n",
      "[21, 0.0026302806837425917, 'IPT_22']\n",
      "[20, 0.002612726952226528, 'IPT_21']\n",
      "[87, 0.0025937047803744045, 'SIZE_28']\n",
      "[120, 0.0025872044303508336, 'IPT_BIN4']\n",
      "[89, 0.0025660172247913456, 'SIZE_30']\n",
      "[38, 0.00255338307780743, 'DIR_9']\n",
      "[39, 0.002514320865561986, 'DIR_10']\n",
      "[88, 0.002498042830271592, 'SIZE_29']\n",
      "[124, 0.0023101138711691133, 'IPT_BIN8']\n",
      "[132, 0.002293961103080938, 'IPT_BIN8_REV']\n",
      "[22, 0.0021948452886355594, 'IPT_23']\n",
      "[23, 0.002074164200847974, 'IPT_24']\n",
      "[41, 0.001925887487261021, 'DIR_12']\n",
      "[24, 0.0018757820512481929, 'IPT_25']\n",
      "[43, 0.0017851531092461564, 'DIR_14']\n",
      "[25, 0.0016781917626832725, 'IPT_26']\n",
      "[44, 0.001619635389017068, 'DIR_15']\n",
      "[26, 0.0015463213153873558, 'IPT_27']\n",
      "[27, 0.0014807751293835054, 'IPT_28']\n",
      "[45, 0.0014806590560381523, 'DIR_16']\n",
      "[46, 0.0014047902365208556, 'DIR_17']\n",
      "[28, 0.0013829542960969421, 'IPT_29']\n",
      "[47, 0.0013767709449502398, 'DIR_18']\n",
      "[29, 0.0013099357551677763, 'IPT_30']\n",
      "[130, 0.0011643477346891089, 'IPT_BIN6_REV']\n",
      "[48, 0.0011491231408515623, 'DIR_19']\n",
      "[122, 0.0011475095726234215, 'IPT_BIN6']\n",
      "[49, 0.001022681525430821, 'DIR_20']\n",
      "[51, 0.0010025803333830686, 'DIR_22']\n",
      "[52, 0.0009562412280213226, 'DIR_23']\n",
      "[50, 0.0009322466122410741, 'DIR_21']\n",
      "[131, 0.0008753122359594984, 'IPT_BIN7_REV']\n",
      "[53, 0.000866082942075048, 'DIR_24']\n",
      "[123, 0.0008229807469234997, 'IPT_BIN7']\n",
      "[54, 0.0008151611352076439, 'DIR_25']\n",
      "[55, 0.0007241372351581441, 'DIR_26']\n",
      "[58, 0.0007080434860648971, 'DIR_29']\n",
      "[56, 0.0007016518181591466, 'DIR_27']\n",
      "[59, 0.0006905598733823803, 'DIR_30']\n",
      "[57, 0.0006659504952978012, 'DIR_28']\n",
      "[99, 7.550418851154965e-05, 'FLOW_ENDREASON_ACTIVE']\n",
      "[98, 4.976338458093416e-05, 'FLOW_ENDREASON_IDLE']\n",
      "[100, 1.2655067415128232e-05, 'FLOW_ENDREASON_OTHER']\n",
      "[109, 4.0381938964323087e-07, 'PSIZE_BIN1_REV']\n",
      "[0, 0.0, 'IPT_1']\n",
      "[30, 0.0, 'DIR_1']\n",
      "[101, 0.0, 'PSIZE_BIN1']\n"
     ]
    }
   ],
   "source": [
    "fi = clf.feature_importances_\n",
    "fi_arr = []\n",
    "\n",
    "for i, el in enumerate(fi):\n",
    "    fi_arr.append([i, el])\n",
    "\n",
    "for i, el in enumerate(train_dataframe.columns.tolist()):\n",
    "    if i == 133:\n",
    "        break\n",
    "    fi_arr[i].append(el)\n",
    "\n",
    "fi_arr = sorted(fi_arr, key=lambda x: x[1], reverse=True)\n",
    "\n",
    "for i in fi_arr:\n",
    "    print(i)"
   ]
  },
  {
   "cell_type": "code",
   "execution_count": null,
   "metadata": {},
   "outputs": [],
   "source": []
  },
  {
   "cell_type": "code",
   "execution_count": 1,
   "metadata": {},
   "outputs": [
    {
     "ename": "NameError",
     "evalue": "name 'X' is not defined",
     "output_type": "error",
     "traceback": [
      "\u001b[0;31m---------------------------------------------------------------------------\u001b[0m",
      "\u001b[0;31mNameError\u001b[0m                                 Traceback (most recent call last)",
      "Cell \u001b[0;32mIn[1], line 14\u001b[0m\n\u001b[1;32m     10\u001b[0m count_packet \u001b[38;5;241m=\u001b[39m [\u001b[38;5;241m0\u001b[39m, \u001b[38;5;241m0\u001b[39m, \u001b[38;5;241m0\u001b[39m, \u001b[38;5;241m0\u001b[39m, \u001b[38;5;241m0\u001b[39m]\n\u001b[1;32m     12\u001b[0m dur_arr \u001b[38;5;241m=\u001b[39m []\n\u001b[0;32m---> 14\u001b[0m \u001b[38;5;28;01mfor\u001b[39;00m i \u001b[38;5;129;01min\u001b[39;00m \u001b[38;5;28mrange\u001b[39m(\u001b[38;5;28mlen\u001b[39m(\u001b[43mX\u001b[49m)):\n\u001b[1;32m     15\u001b[0m     \u001b[38;5;66;03m# dur_arr.append(X[i][94])\u001b[39;00m\n\u001b[1;32m     17\u001b[0m     \u001b[38;5;28;01mif\u001b[39;00m X[i][\u001b[38;5;241m94\u001b[39m] \u001b[38;5;241m<\u001b[39m \u001b[38;5;241m0.1\u001b[39m:\n\u001b[1;32m     18\u001b[0m         count_packet[\u001b[38;5;241m0\u001b[39m] \u001b[38;5;241m+\u001b[39m\u001b[38;5;241m=\u001b[39m \u001b[38;5;241m1\u001b[39m\n",
      "\u001b[0;31mNameError\u001b[0m: name 'X' is not defined"
     ]
    }
   ],
   "source": [
    "from math import log\n",
    "\n",
    "m1 = 0\n",
    "m2 = 0\n",
    "\n",
    "count1 = [0, 0, 0, 0, 0, 0, 0, 0, 0, 0, 0, 0, 0, 0, 0, 0, 0]\n",
    "count2 = [0, 0, 0, 0, 0, 0, 0, 0, 0, 0, 0, 0, 0, 0, 0, 0, 0]\n",
    "\n",
    "\n",
    "count_packet = [0, 0, 0, 0, 0]\n",
    "\n",
    "dur_arr = []\n",
    "\n",
    "for i in range(len(X)):\n",
    "    # dur_arr.append(X[i][94])\n",
    "\n",
    "    # if X[i][94] < 0.1:\n",
    "    #     count_packet[0] += 1\n",
    "    # elif X[i][94] < 1:\n",
    "    #     count_packet[1] += 1\n",
    "    # elif X[i][94] < 29.9:\n",
    "    #     count_packet[2] += 1\n",
    "    # elif X[i][94] < 59.9:\n",
    "    #     count_packet[3] += 1\n",
    "    # elif X[i][94] < 89.9:\n",
    "    #     count_packet[4] += 1\n",
    "    # elif X[i][94] < 119.9:\n",
    "    #     count_packet[5] += 1\n",
    "    # elif X[i][94] < 299:\n",
    "    #     count_packet[6] += 1\n",
    "    # else:\n",
    "    #     count_packet[7] += 1\n",
    "\n",
    "    # print(X[i][90] / X[i][92])\n",
    "\n",
    "    # 340 middle point for client\n",
    "    # 460 middle point for server\n",
    "\n",
    "    # if X[i][91] / X[i][93] < 460:\n",
    "    #     count_packet[0] += 1\n",
    "    # else:\n",
    "    #     count_packet[1] += 1\n",
    "\n",
    "\n",
    "    # if m1 < max(int(log(X[i][91], 5)) - 4, 0):\n",
    "    #     m1 = max(int(log(X[i][91], 5)) - 4, 0)\n",
    "    \n",
    "    # if m2 < max(int(log(X[i][90], 5)) - 4, 0):\n",
    "    #     m2 = max(int(log(X[i][90], 5)) - 4, 0)\n",
    "\n",
    "print(count_packet)\n",
    "\n",
    "# dur_arr.sort()\n",
    "# with open(\"out.txt\", \"w\") as f:\n",
    "#     for line in dur_arr:\n",
    "#         f.write(str(line) + \"\\n\")\n",
    "\n",
    "# print(count_packet)\n",
    "\n",
    "# print(count1)\n",
    "# print(count2)"
   ]
  }
 ],
 "metadata": {
  "kernelspec": {
   "display_name": "Python 3",
   "language": "python",
   "name": "python3"
  },
  "language_info": {
   "codemirror_mode": {
    "name": "ipython",
    "version": 3
   },
   "file_extension": ".py",
   "mimetype": "text/x-python",
   "name": "python",
   "nbconvert_exporter": "python",
   "pygments_lexer": "ipython3",
   "version": "3.11.1"
  }
 },
 "nbformat": 4,
 "nbformat_minor": 2
}
