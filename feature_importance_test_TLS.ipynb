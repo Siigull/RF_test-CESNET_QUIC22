{
 "cells": [
  {
   "cell_type": "code",
   "execution_count": 1,
   "metadata": {},
   "outputs": [
    {
     "name": "stderr",
     "output_type": "stream",
     "text": [
      "/Library/Frameworks/Python.framework/Versions/3.11/lib/python3.11/site-packages/cesnet_datazoo/config.py:341: UserWarning: Some test dates (20211011) are before or equal to the last train date (20211017). This might lead to improper evaluation and should be avoided.\n",
      "  warnings.warn(f\"Some test dates ({min(test_dates).strftime('%Y%m%d')}) are before or equal to the last train date ({max(train_dates).strftime('%Y%m%d')}). This might lead to improper evaluation and should be avoided.\")\n"
     ]
    },
    {
     "name": "stdout",
     "output_type": "stream",
     "text": [
      "Loading data from dataloader\n"
     ]
    },
    {
     "name": "stderr",
     "output_type": "stream",
     "text": [
      "100%|██████████| 20089/20089 [00:12<00:00, 1565.02it/s]\n"
     ]
    },
    {
     "name": "stdout",
     "output_type": "stream",
     "text": [
      "Loading data from dataloader\n"
     ]
    },
    {
     "name": "stderr",
     "output_type": "stream",
     "text": [
      "100%|██████████| 471/471 [00:05<00:00, 88.78it/s] \n"
     ]
    },
    {
     "name": "stdout",
     "output_type": "stream",
     "text": [
      "Loading data from dataloader\n"
     ]
    },
    {
     "name": "stderr",
     "output_type": "stream",
     "text": [
      "100%|██████████| 2355/2355 [00:10<00:00, 216.43it/s]\n"
     ]
    }
   ],
   "source": [
    "from cesnet_datazoo.datasets import CESNET_TLS22\n",
    "from cesnet_datazoo.config import DatasetConfig, AppSelection, ValidationApproach\n",
    "\n",
    "dataset = CESNET_TLS22(\"~/datasets/CESNET-TLS22/\", size=\"XS\")\n",
    "\n",
    "common_params = {\n",
    "    \"dataset\": dataset,\n",
    "    \"apps_selection\": AppSelection.ALL_KNOWN,\n",
    "    \"train_period_name\": \"W-2021-41\",\n",
    "    \"val_approach\": ValidationApproach.SPLIT_FROM_TRAIN,\n",
    "    \"train_val_split_fraction\": 0.2,\n",
    "}\n",
    "dataset_config = DatasetConfig(**common_params)\n",
    "dataset.set_dataset_config_and_initialize(dataset_config)\n",
    "train_dataframe = dataset.get_train_df(flatten_ppi=True)\n",
    "val_dataframe = dataset.get_val_df(flatten_ppi=True)\n",
    "test_dataframe = dataset.get_test_df(flatten_ppi=True)"
   ]
  },
  {
   "cell_type": "code",
   "execution_count": 3,
   "metadata": {},
   "outputs": [
    {
     "data": {
      "text/html": [
       "<style>#sk-container-id-1 {color: black;background-color: white;}#sk-container-id-1 pre{padding: 0;}#sk-container-id-1 div.sk-toggleable {background-color: white;}#sk-container-id-1 label.sk-toggleable__label {cursor: pointer;display: block;width: 100%;margin-bottom: 0;padding: 0.3em;box-sizing: border-box;text-align: center;}#sk-container-id-1 label.sk-toggleable__label-arrow:before {content: \"▸\";float: left;margin-right: 0.25em;color: #696969;}#sk-container-id-1 label.sk-toggleable__label-arrow:hover:before {color: black;}#sk-container-id-1 div.sk-estimator:hover label.sk-toggleable__label-arrow:before {color: black;}#sk-container-id-1 div.sk-toggleable__content {max-height: 0;max-width: 0;overflow: hidden;text-align: left;background-color: #f0f8ff;}#sk-container-id-1 div.sk-toggleable__content pre {margin: 0.2em;color: black;border-radius: 0.25em;background-color: #f0f8ff;}#sk-container-id-1 input.sk-toggleable__control:checked~div.sk-toggleable__content {max-height: 200px;max-width: 100%;overflow: auto;}#sk-container-id-1 input.sk-toggleable__control:checked~label.sk-toggleable__label-arrow:before {content: \"▾\";}#sk-container-id-1 div.sk-estimator input.sk-toggleable__control:checked~label.sk-toggleable__label {background-color: #d4ebff;}#sk-container-id-1 div.sk-label input.sk-toggleable__control:checked~label.sk-toggleable__label {background-color: #d4ebff;}#sk-container-id-1 input.sk-hidden--visually {border: 0;clip: rect(1px 1px 1px 1px);clip: rect(1px, 1px, 1px, 1px);height: 1px;margin: -1px;overflow: hidden;padding: 0;position: absolute;width: 1px;}#sk-container-id-1 div.sk-estimator {font-family: monospace;background-color: #f0f8ff;border: 1px dotted black;border-radius: 0.25em;box-sizing: border-box;margin-bottom: 0.5em;}#sk-container-id-1 div.sk-estimator:hover {background-color: #d4ebff;}#sk-container-id-1 div.sk-parallel-item::after {content: \"\";width: 100%;border-bottom: 1px solid gray;flex-grow: 1;}#sk-container-id-1 div.sk-label:hover label.sk-toggleable__label {background-color: #d4ebff;}#sk-container-id-1 div.sk-serial::before {content: \"\";position: absolute;border-left: 1px solid gray;box-sizing: border-box;top: 0;bottom: 0;left: 50%;z-index: 0;}#sk-container-id-1 div.sk-serial {display: flex;flex-direction: column;align-items: center;background-color: white;padding-right: 0.2em;padding-left: 0.2em;position: relative;}#sk-container-id-1 div.sk-item {position: relative;z-index: 1;}#sk-container-id-1 div.sk-parallel {display: flex;align-items: stretch;justify-content: center;background-color: white;position: relative;}#sk-container-id-1 div.sk-item::before, #sk-container-id-1 div.sk-parallel-item::before {content: \"\";position: absolute;border-left: 1px solid gray;box-sizing: border-box;top: 0;bottom: 0;left: 50%;z-index: -1;}#sk-container-id-1 div.sk-parallel-item {display: flex;flex-direction: column;z-index: 1;position: relative;background-color: white;}#sk-container-id-1 div.sk-parallel-item:first-child::after {align-self: flex-end;width: 50%;}#sk-container-id-1 div.sk-parallel-item:last-child::after {align-self: flex-start;width: 50%;}#sk-container-id-1 div.sk-parallel-item:only-child::after {width: 0;}#sk-container-id-1 div.sk-dashed-wrapped {border: 1px dashed gray;margin: 0 0.4em 0.5em 0.4em;box-sizing: border-box;padding-bottom: 0.4em;background-color: white;}#sk-container-id-1 div.sk-label label {font-family: monospace;font-weight: bold;display: inline-block;line-height: 1.2em;}#sk-container-id-1 div.sk-label-container {text-align: center;}#sk-container-id-1 div.sk-container {/* jupyter's `normalize.less` sets `[hidden] { display: none; }` but bootstrap.min.css set `[hidden] { display: none !important; }` so we also need the `!important` here to be able to override the default hidden behavior on the sphinx rendered scikit-learn.org. See: https://github.com/scikit-learn/scikit-learn/issues/21755 */display: inline-block !important;position: relative;}#sk-container-id-1 div.sk-text-repr-fallback {display: none;}</style><div id=\"sk-container-id-1\" class=\"sk-top-container\"><div class=\"sk-text-repr-fallback\"><pre>RandomForestClassifier(n_jobs=-1)</pre><b>In a Jupyter environment, please rerun this cell to show the HTML representation or trust the notebook. <br />On GitHub, the HTML representation is unable to render, please try loading this page with nbviewer.org.</b></div><div class=\"sk-container\" hidden><div class=\"sk-item\"><div class=\"sk-estimator sk-toggleable\"><input class=\"sk-toggleable__control sk-hidden--visually\" id=\"sk-estimator-id-1\" type=\"checkbox\" checked><label for=\"sk-estimator-id-1\" class=\"sk-toggleable__label sk-toggleable__label-arrow\">RandomForestClassifier</label><div class=\"sk-toggleable__content\"><pre>RandomForestClassifier(n_jobs=-1)</pre></div></div></div></div></div>"
      ],
      "text/plain": [
       "RandomForestClassifier(n_jobs=-1)"
      ]
     },
     "execution_count": 3,
     "metadata": {},
     "output_type": "execute_result"
    }
   ],
   "source": [
    "import numpy as np\n",
    "\n",
    "X = train_dataframe.drop(columns=\"APP\").to_numpy()[:1000000]\n",
    "y = train_dataframe[\"APP\"].to_numpy()[:1000000]\n",
    "\n",
    "# np.append(X, test_dataframe.drop(columns=\"APP\").to_numpy())\n",
    "# np.append(y, test_dataframe[\"APP\"].to_numpy())\n",
    "\n",
    "from sklearn.ensemble import RandomForestClassifier\n",
    "\n",
    "clf = RandomForestClassifier(n_jobs = -1)\n",
    "clf.fit(X, y)"
   ]
  },
  {
   "cell_type": "code",
   "execution_count": 9,
   "metadata": {},
   "outputs": [
    {
     "name": "stdout",
     "output_type": "stream",
     "text": [
      "[64, 0.0668542943125576, 'SIZE_5']\n",
      "[60, 0.05717973451856223, 'SIZE_1']\n",
      "[63, 0.056843691681913305, 'SIZE_4']\n",
      "[65, 0.05574814891673959, 'SIZE_6']\n",
      "[1, 0.04960230082612469, 'IPT_2']\n",
      "[91, 0.0430389393860802, 'BYTES_REV']\n",
      "[66, 0.04122565544467784, 'SIZE_7']\n",
      "[61, 0.0397025391132644, 'SIZE_2']\n",
      "[62, 0.03686051734366901, 'SIZE_3']\n",
      "[67, 0.03247295459069645, 'SIZE_8']\n",
      "[90, 0.03171891671696611, 'BYTES']\n",
      "[68, 0.025172603471949585, 'SIZE_9']\n",
      "[94, 0.023794190461216745, 'DURATION']\n",
      "[97, 0.02362850350726519, 'PPI_DURATION']\n",
      "[5, 0.023545796188588666, 'IPT_6']\n",
      "[69, 0.02096713555187285, 'SIZE_10']\n",
      "[4, 0.020867357241391146, 'IPT_5']\n",
      "[6, 0.01994782977107928, 'IPT_7']\n",
      "[93, 0.019565084840426152, 'PACKETS_REV']\n",
      "[7, 0.016316098231827364, 'IPT_8']\n",
      "[70, 0.015568326365801908, 'SIZE_11']\n",
      "[92, 0.012645012797653189, 'PACKETS']\n",
      "[95, 0.012559231226317889, 'PPI_LEN']\n",
      "[71, 0.012164483174798636, 'SIZE_12']\n",
      "[8, 0.01213463596625307, 'IPT_9']\n",
      "[3, 0.011609497259089004, 'IPT_4']\n",
      "[35, 0.010828741983260183, 'DIR_6']\n",
      "[36, 0.01014953697503539, 'DIR_7']\n",
      "[34, 0.010102235622232805, 'DIR_5']\n",
      "[96, 0.010046539270642764, 'PPI_ROUNDTRIPS']\n",
      "[10, 0.009173314107990015, 'IPT_11']\n",
      "[9, 0.0089965855466736, 'IPT_10']\n",
      "[72, 0.0087675448819897, 'SIZE_13']\n",
      "[2, 0.007964547402176314, 'IPT_3']\n",
      "[37, 0.007894814155289497, 'DIR_8']\n",
      "[73, 0.007191030482751384, 'SIZE_14']\n",
      "[38, 0.006834436559756436, 'DIR_9']\n",
      "[33, 0.006562532011020985, 'DIR_4']\n",
      "[74, 0.006239705321729705, 'SIZE_15']\n",
      "[11, 0.005742292044759425, 'IPT_12']\n",
      "[39, 0.005643863954121495, 'DIR_10']\n",
      "[75, 0.00512664460936166, 'SIZE_16']\n",
      "[32, 0.004963563672770574, 'DIR_3']\n",
      "[40, 0.004465931935761476, 'DIR_11']\n",
      "[76, 0.004444913058901246, 'SIZE_17']\n",
      "[12, 0.0042740915567064785, 'IPT_13']\n",
      "[41, 0.0038795765057892937, 'DIR_12']\n",
      "[78, 0.0037505622350387053, 'SIZE_19']\n",
      "[77, 0.0037254126355116077, 'SIZE_18']\n",
      "[13, 0.003046708346182226, 'IPT_14']\n",
      "[79, 0.00298688493215825, 'SIZE_20']\n",
      "[42, 0.002981684507085863, 'DIR_13']\n",
      "[14, 0.0025478342628356423, 'IPT_15']\n",
      "[81, 0.0023660231127169435, 'SIZE_22']\n",
      "[80, 0.0023593159117194706, 'SIZE_21']\n",
      "[15, 0.0021600143382599327, 'IPT_16']\n",
      "[82, 0.0019784709921124104, 'SIZE_23']\n",
      "[43, 0.001968972447791813, 'DIR_14']\n",
      "[44, 0.0019456567786759358, 'DIR_15']\n",
      "[83, 0.001822748279706672, 'SIZE_24']\n",
      "[84, 0.0017187118331368843, 'SIZE_25']\n",
      "[31, 0.0016686037565607674, 'DIR_2']\n",
      "[85, 0.0016586808560669097, 'SIZE_26']\n",
      "[16, 0.0016574685342726583, 'IPT_17']\n",
      "[45, 0.0015860683253374854, 'DIR_16']\n",
      "[88, 0.001579691752826959, 'SIZE_29']\n",
      "[86, 0.001561123389112916, 'SIZE_27']\n",
      "[89, 0.0014666752643436765, 'SIZE_30']\n",
      "[87, 0.0014634956753231147, 'SIZE_28']\n",
      "[17, 0.0013386928725252739, 'IPT_18']\n",
      "[47, 0.0013022255563234358, 'DIR_18']\n",
      "[46, 0.0012421497787703463, 'DIR_17']\n",
      "[18, 0.0012233069660471914, 'IPT_19']\n",
      "[19, 0.0011698412139929861, 'IPT_20']\n",
      "[48, 0.0010135369439784826, 'DIR_19']\n",
      "[20, 0.0009984403786070695, 'IPT_21']\n",
      "[21, 0.000953662973940331, 'IPT_22']\n",
      "[49, 0.0009184244145857734, 'DIR_20']\n",
      "[22, 0.0008459670034152664, 'IPT_23']\n",
      "[50, 0.0008037805983493727, 'DIR_21']\n",
      "[23, 0.0007383517369349759, 'IPT_24']\n",
      "[51, 0.0007276768725880038, 'DIR_22']\n",
      "[24, 0.000657549469636845, 'IPT_25']\n",
      "[52, 0.0006109696001201174, 'DIR_23']\n",
      "[25, 0.0005996834467933763, 'IPT_26']\n",
      "[53, 0.0005775064561742978, 'DIR_24']\n",
      "[59, 0.0005697932607719211, 'DIR_30']\n",
      "[26, 0.0005652751919087118, 'IPT_27']\n",
      "[54, 0.0005469174226309904, 'DIR_25']\n",
      "[55, 0.0005352936247507823, 'DIR_26']\n",
      "[58, 0.0005234558475085419, 'DIR_29']\n",
      "[27, 0.0005169243663271742, 'IPT_28']\n",
      "[57, 0.0005026840580302166, 'DIR_28']\n",
      "[56, 0.0004988539465092427, 'DIR_27']\n",
      "[28, 0.0004960132696005304, 'IPT_29']\n",
      "[29, 0.0004941246312688882, 'IPT_30']\n",
      "[30, 2.169365630290921e-06, 'DIR_1']\n",
      "[0, 0.0, 'IPT_1']\n"
     ]
    }
   ],
   "source": [
    "fi = clf.feature_importances_\n",
    "fi_arr = []\n",
    "\n",
    "for i, el in enumerate(fi):\n",
    "    fi_arr.append([i, el])\n",
    "\n",
    "for i, el in enumerate(train_dataframe.columns.tolist()):\n",
    "    if i == 98:\n",
    "        break\n",
    "    fi_arr[i].append(el)\n",
    "\n",
    "fi_arr = sorted(fi_arr, key=lambda x: x[1], reverse=True)\n",
    "\n",
    "for i in fi_arr:\n",
    "    print(i)"
   ]
  },
  {
   "cell_type": "code",
   "execution_count": null,
   "metadata": {},
   "outputs": [],
   "source": []
  },
  {
   "cell_type": "code",
   "execution_count": null,
   "metadata": {},
   "outputs": [
    {
     "ename": "NameError",
     "evalue": "name 'X' is not defined",
     "output_type": "error",
     "traceback": [
      "\u001b[0;31m---------------------------------------------------------------------------\u001b[0m",
      "\u001b[0;31mNameError\u001b[0m                                 Traceback (most recent call last)",
      "Cell \u001b[0;32mIn[1], line 14\u001b[0m\n\u001b[1;32m     10\u001b[0m count_packet \u001b[38;5;241m=\u001b[39m [\u001b[38;5;241m0\u001b[39m, \u001b[38;5;241m0\u001b[39m, \u001b[38;5;241m0\u001b[39m, \u001b[38;5;241m0\u001b[39m, \u001b[38;5;241m0\u001b[39m]\n\u001b[1;32m     12\u001b[0m dur_arr \u001b[38;5;241m=\u001b[39m []\n\u001b[0;32m---> 14\u001b[0m \u001b[38;5;28;01mfor\u001b[39;00m i \u001b[38;5;129;01min\u001b[39;00m \u001b[38;5;28mrange\u001b[39m(\u001b[38;5;28mlen\u001b[39m(\u001b[43mX\u001b[49m)):\n\u001b[1;32m     15\u001b[0m     \u001b[38;5;66;03m# dur_arr.append(X[i][94])\u001b[39;00m\n\u001b[1;32m     17\u001b[0m     \u001b[38;5;28;01mif\u001b[39;00m X[i][\u001b[38;5;241m94\u001b[39m] \u001b[38;5;241m<\u001b[39m \u001b[38;5;241m0.1\u001b[39m:\n\u001b[1;32m     18\u001b[0m         count_packet[\u001b[38;5;241m0\u001b[39m] \u001b[38;5;241m+\u001b[39m\u001b[38;5;241m=\u001b[39m \u001b[38;5;241m1\u001b[39m\n",
      "\u001b[0;31mNameError\u001b[0m: name 'X' is not defined"
     ]
    }
   ],
   "source": [
    "from math import log\n",
    "\n",
    "m1 = 0\n",
    "m2 = 0\n",
    "\n",
    "count1 = [0, 0, 0, 0, 0, 0, 0, 0, 0, 0, 0, 0, 0, 0, 0, 0, 0]\n",
    "count2 = [0, 0, 0, 0, 0, 0, 0, 0, 0, 0, 0, 0, 0, 0, 0, 0, 0]\n",
    "\n",
    "\n",
    "count_packet = [0, 0, 0, 0, 0]\n",
    "\n",
    "dur_arr = []\n",
    "\n",
    "for i in range(len(X)):\n",
    "    dur_arr.append(X[i][97])\n",
    "\n",
    "    # if X[i][94] < 0.1:\n",
    "    #     count_packet[0] += 1\n",
    "    # elif X[i][94] < 1:\n",
    "    #     count_packet[1] += 1\n",
    "    # elif X[i][94] < 29.9:\n",
    "    #     count_packet[2] += 1\n",
    "    # elif X[i][94] < 59.9:\n",
    "    #     count_packet[3] += 1\n",
    "    # elif X[i][94] < 89.9:\n",
    "    #     count_packet[4] += 1\n",
    "    # elif X[i][94] < 119.9:\n",
    "    #     count_packet[5] += 1\n",
    "    # elif X[i][94] < 299:\n",
    "    #     count_packet[6] += 1\n",
    "    # else:\n",
    "    #     count_packet[7] += 1\n",
    "\n",
    "    # print(X[i][90] / X[i][92])\n",
    "\n",
    "    # 340 middle point for client\n",
    "    # 460 middle point for server\n",
    "\n",
    "    # if X[i][91] / X[i][93] < 460:\n",
    "    #     count_packet[0] += 1\n",
    "    # else:\n",
    "    #     count_packet[1] += 1\n",
    "\n",
    "\n",
    "    # if m1 < max(int(log(X[i][91], 5)) - 4, 0):\n",
    "    #     m1 = max(int(log(X[i][91], 5)) - 4, 0)\n",
    "    \n",
    "    # if m2 < max(int(log(X[i][90], 5)) - 4, 0):\n",
    "    #     m2 = max(int(log(X[i][90], 5)) - 4, 0)\n",
    "\n",
    "# print(count_packet)\n",
    "\n",
    "dur_arr.sort()\n",
    "with open(\"out.txt\", \"w\") as f:\n",
    "    for line in dur_arr:\n",
    "        f.write(str(line) + \"\\n\")\n",
    "\n",
    "# print(count_packet)\n",
    "\n",
    "# print(count1)\n",
    "# print(count2)"
   ]
  }
 ],
 "metadata": {
  "kernelspec": {
   "display_name": "Python 3",
   "language": "python",
   "name": "python3"
  },
  "language_info": {
   "codemirror_mode": {
    "name": "ipython",
    "version": 3
   },
   "file_extension": ".py",
   "mimetype": "text/x-python",
   "name": "python",
   "nbconvert_exporter": "python",
   "pygments_lexer": "ipython3",
   "version": "3.11.1"
  }
 },
 "nbformat": 4,
 "nbformat_minor": 2
}
