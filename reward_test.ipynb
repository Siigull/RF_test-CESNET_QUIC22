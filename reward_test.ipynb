{
 "cells": [
  {
   "cell_type": "code",
   "execution_count": 1,
   "metadata": {},
   "outputs": [
    {
     "name": "stdout",
     "output_type": "stream",
     "text": [
      "Loading data from dataloader\n"
     ]
    },
    {
     "name": "stderr",
     "output_type": "stream",
     "text": [
      "100%|██████████| 8162/8162 [00:08<00:00, 925.00it/s] \n"
     ]
    },
    {
     "name": "stdout",
     "output_type": "stream",
     "text": [
      "Loading data from dataloader\n"
     ]
    },
    {
     "name": "stderr",
     "output_type": "stream",
     "text": [
      "100%|██████████| 192/192 [00:04<00:00, 44.53it/s]\n"
     ]
    },
    {
     "name": "stdout",
     "output_type": "stream",
     "text": [
      "Loading data from dataloader\n"
     ]
    },
    {
     "name": "stderr",
     "output_type": "stream",
     "text": [
      "100%|██████████| 1247/1247 [00:09<00:00, 137.96it/s]\n"
     ]
    }
   ],
   "source": [
    "from cesnet_datazoo.datasets import CESNET_QUIC22\n",
    "from cesnet_datazoo.config import DatasetConfig, AppSelection, ValidationApproach\n",
    "\n",
    "dataset = CESNET_QUIC22(\"~/datasets/CESNET-QUIC22/\", size=\"XS\")\n",
    "\n",
    "common_params = {\n",
    "    \"dataset\": dataset,\n",
    "    \"apps_selection\": AppSelection.ALL_KNOWN,\n",
    "    \"train_period_name\": \"W-2022-44\",\n",
    "    \"val_approach\": ValidationApproach.SPLIT_FROM_TRAIN,\n",
    "    \"train_val_split_fraction\": 0.2,\n",
    "    \"use_packet_histograms\": True,\n",
    "}\n",
    "dataset_config = DatasetConfig(**common_params)\n",
    "dataset.set_dataset_config_and_initialize(dataset_config)\n",
    "train_dataframe = dataset.get_train_df(flatten_ppi=True)\n",
    "val_dataframe = dataset.get_val_df(flatten_ppi=True)\n",
    "test_dataframe = dataset.get_test_df(flatten_ppi=True)"
   ]
  },
  {
   "cell_type": "code",
   "execution_count": 8,
   "metadata": {},
   "outputs": [
    {
     "name": "stdout",
     "output_type": "stream",
     "text": [
      "0.6550199999999999\n",
      "0.6539200000000001\n",
      "0.65602\n",
      "0.65524\n",
      "0.6560999999999999\n",
      "0.6535\n",
      "0.65328\n",
      "0.6565000000000001\n",
      "0.65484\n",
      "0.65578\n",
      "0.65564\n",
      "0.65416\n",
      "0.6561999999999999\n",
      "0.65184\n",
      "0.65542\n",
      "0.65156\n",
      "0.65306\n",
      "0.657\n",
      "0.65382\n",
      "0.6548200000000001\n"
     ]
    }
   ],
   "source": [
    "from sklearn.ensemble import RandomForestClassifier\n",
    "from sklearn.metrics import accuracy_score\n",
    "\n",
    "X = train_dataframe.drop(columns=\"APP\").to_numpy()[:10000]\n",
    "y = train_dataframe[\"APP\"].to_numpy()[:10000]\n",
    "\n",
    "X_test = test_dataframe.drop(columns=\"APP\").to_numpy()[:10000]\n",
    "y_test = test_dataframe[\"APP\"].to_numpy()[:10000]\n",
    "\n",
    "a_in = 5\n",
    "average = 0\n",
    "for i in range(1, 101):\n",
    "    clf = RandomForestClassifier(max_depth=10, n_jobs=-1)\n",
    "\n",
    "    clf.fit(X[:10000], y[:10000])\n",
    "\n",
    "    predict_arr = clf.predict(X_test[:10000])\n",
    "\n",
    "    average += accuracy_score(y_test, predict_arr)\n",
    "\n",
    "    if i % a_in == 0:\n",
    "        print(average / a_in)\n",
    "        average = 0\n"
   ]
  }
 ],
 "metadata": {
  "kernelspec": {
   "display_name": "Python 3",
   "language": "python",
   "name": "python3"
  },
  "language_info": {
   "codemirror_mode": {
    "name": "ipython",
    "version": 3
   },
   "file_extension": ".py",
   "mimetype": "text/x-python",
   "name": "python",
   "nbconvert_exporter": "python",
   "pygments_lexer": "ipython3",
   "version": "3.11.1"
  }
 },
 "nbformat": 4,
 "nbformat_minor": 2
}
