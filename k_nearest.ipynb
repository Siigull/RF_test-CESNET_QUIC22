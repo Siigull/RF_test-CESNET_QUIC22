{
 "cells": [
  {
   "cell_type": "code",
   "execution_count": 1,
   "metadata": {},
   "outputs": [
    {
     "name": "stdout",
     "output_type": "stream",
     "text": [
      "Loading data from dataloader\n"
     ]
    },
    {
     "name": "stderr",
     "output_type": "stream",
     "text": [
      "100%|██████████| 8162/8162 [00:08<00:00, 985.96it/s] \n"
     ]
    },
    {
     "name": "stdout",
     "output_type": "stream",
     "text": [
      "Loading data from dataloader\n"
     ]
    },
    {
     "name": "stderr",
     "output_type": "stream",
     "text": [
      "100%|██████████| 192/192 [00:03<00:00, 48.07it/s]\n"
     ]
    },
    {
     "name": "stdout",
     "output_type": "stream",
     "text": [
      "Loading data from dataloader\n"
     ]
    },
    {
     "name": "stderr",
     "output_type": "stream",
     "text": [
      "100%|██████████| 1247/1247 [00:09<00:00, 133.86it/s]\n"
     ]
    }
   ],
   "source": [
    "from cesnet_datazoo.datasets import CESNET_QUIC22\n",
    "from cesnet_datazoo.config import DatasetConfig, AppSelection, ValidationApproach\n",
    "\n",
    "dataset = CESNET_QUIC22(\"~/datasets/CESNET-QUIC22/\", size=\"XS\")\n",
    "\n",
    "common_params = {\n",
    "    \"dataset\": dataset,\n",
    "    \"apps_selection\": AppSelection.ALL_KNOWN,\n",
    "    \"train_period_name\": \"W-2022-44\",\n",
    "    \"val_approach\": ValidationApproach.SPLIT_FROM_TRAIN,\n",
    "    \"train_val_split_fraction\": 0.2,\n",
    "    \"use_packet_histograms\": True,\n",
    "}\n",
    "dataset_config = DatasetConfig(**common_params)\n",
    "dataset.set_dataset_config_and_initialize(dataset_config)\n",
    "train_dataframe = dataset.get_train_df(flatten_ppi=True)\n",
    "val_dataframe = dataset.get_val_df(flatten_ppi=True)\n",
    "test_dataframe = dataset.get_test_df(flatten_ppi=True)"
   ]
  },
  {
   "cell_type": "code",
   "execution_count": 52,
   "metadata": {},
   "outputs": [
    {
     "name": "stderr",
     "output_type": "stream",
     "text": [
      "/var/folders/8f/6dw3knc955311yk7rhd5t4980000gn/T/ipykernel_69878/263393245.py:28: RuntimeWarning: divide by zero encountered in scalar divide\n",
      "  coeff = sum_correct / sum_other\n"
     ]
    },
    {
     "name": "stdout",
     "output_type": "stream",
     "text": [
      "[21364, 34055, 16992, 27589]\n"
     ]
    }
   ],
   "source": [
    "from sklearn.neighbors import KNeighborsClassifier\n",
    "\n",
    "import numpy as np\n",
    "\n",
    "X_train = train_dataframe.drop(columns=\"APP\").to_numpy()[:1000000]\n",
    "y_train = train_dataframe[\"APP\"].to_numpy()[:1000000]\n",
    "\n",
    "X_test = test_dataframe.drop(columns=\"APP\").to_numpy()[:100000]\n",
    "y_test = test_dataframe[\"APP\"].to_numpy()[:100000]\n",
    "\n",
    "clf = KNeighborsClassifier(n_jobs=-1, n_neighbors=100)\n",
    "clf.fit(X_train, y_train)\n",
    "\n",
    "predictions = clf.predict_proba(X_test)\n",
    "\n",
    "sums = [0, 0, 0, 0]\n",
    "\n",
    "for i in range(len(predictions)):\n",
    "    res_index = np.where(clf.classes_ == y_test[i])\n",
    "\n",
    "    # print(predictions[i][res_index][0], end = \" \")\n",
    "\n",
    "    sum_other = -predictions[i][res_index][0]\n",
    "    sum_correct = predictions[i][res_index][0]\n",
    "    for index in range(len(predictions[i])):\n",
    "        sum_other += predictions[i][index]\n",
    "\n",
    "    coeff = sum_correct / sum_other\n",
    "\n",
    "    if coeff < 0.1:\n",
    "        sums[0] += 1\n",
    "    elif coeff < 1:\n",
    "        sums[1] += 1\n",
    "    elif coeff < 10:\n",
    "        sums[2] += 1\n",
    "    else:\n",
    "        sums[3] += 1\n",
    "\n",
    "    # print(coeff)\n",
    "\n",
    "print(sums)\n"
   ]
  },
  {
   "cell_type": "code",
   "execution_count": null,
   "metadata": {},
   "outputs": [],
   "source": []
  }
 ],
 "metadata": {
  "kernelspec": {
   "display_name": "Python 3",
   "language": "python",
   "name": "python3"
  },
  "language_info": {
   "codemirror_mode": {
    "name": "ipython",
    "version": 3
   },
   "file_extension": ".py",
   "mimetype": "text/x-python",
   "name": "python",
   "nbconvert_exporter": "python",
   "pygments_lexer": "ipython3",
   "version": "3.11.1"
  }
 },
 "nbformat": 4,
 "nbformat_minor": 2
}
